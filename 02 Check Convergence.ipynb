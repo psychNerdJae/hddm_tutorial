{
 "cells": [
  {
   "cell_type": "code",
   "execution_count": null,
   "metadata": {},
   "outputs": [],
   "source": [
    "#####  RUN NOTES\n",
    "# Justice Conformity study3, HDDM analysis\n",
    "# Written by Jae-Young Son\n",
    "# Last modified 08-13-20 for HDDM workshop (Carney Computational Modeling Workshop)\n",
    "\n",
    "\n",
    "#####  SET UP ENVIRONMENT\n",
    "\n",
    "# Import requisite packages\n",
    "import matplotlib\n",
    "# If using the cluster, uncomment the following line & run before importing matplotlib.pyplot or pylab\n",
    "# matplotlib.use('Agg')\n",
    "import matplotlib.pyplot as plt\n",
    "import hddm\n",
    "import pandas as pd\n",
    "import pickle\n",
    "from patsy import dmatrix\n",
    "from kabuki.analyze import gelman_rubin\n",
    "from kabuki.utils import concat_models\n",
    "import pathlib\n",
    "\n",
    "# Name this model (useful if you're running different models in different scripts)\n",
    "modelName = 'categorical_unfair'  # Change this to reflect whatever model you're estimating!"
   ]
  },
  {
   "cell_type": "code",
   "execution_count": null,
   "metadata": {},
   "outputs": [],
   "source": [
    "##### LOAD PREVIOUSLY-ESTIMATED MODELS\n",
    "\n",
    "# Notes: You can totally run all of this in the same script where you estimate parameters. But, this has the teaching\n",
    "#        benefit of showing how to load in data from models that you've already estimated.\n",
    "\n",
    "# Create empty array that will eventually store our models\n",
    "models = []\n",
    "\n",
    "# Loop over 5 times to load in our 5 estimated models\n",
    "for i in range(5):\n",
    "    m = hddm.load('./Models/'+modelName+'_'+'%s'%i)\n",
    "    models.append(m)"
   ]
  },
  {
   "cell_type": "code",
   "execution_count": null,
   "metadata": {},
   "outputs": [],
   "source": [
    "#####  CHECK FOR CONVERGENCE\n",
    "\n",
    "# Calculate Gelman-Rubin r-hat statistic\n",
    "m_rhat = gelman_rubin(models)\n",
    "pd.DataFrame.from_dict(m_rhat, orient='index').to_csv('./Results/'+modelName+'_RHat.csv')\n",
    "\n",
    "# Visual convergence check: list figures to be saved\n",
    "# Change this according to what's in your model!\n",
    "convergeCheck = [\n",
    "'t', 't_std',\n",
    "'z', 'z_std',\n",
    "\n",
    "'v_Intercept', 'v_Intercept_std',\n",
    "'a_Intercept', 'a_Intercept_std',\n",
    "\n",
    "'v_C(rev_cat, Treatment(\\'Alone\\'))[T.Zero]',\n",
    "'v_C(rev_cat, Treatment(\\'Alone\\'))[T.One]',\n",
    "'v_C(rev_cat, Treatment(\\'Alone\\'))[T.Two]',\n",
    "'v_C(rev_cat, Treatment(\\'Alone\\'))[T.Three]',\n",
    "'v_C(rev_cat, Treatment(\\'Alone\\'))[T.Four]',\n",
    "\n",
    "'a_C(rev_cat, Treatment(\\'Alone\\'))[T.Zero]',\n",
    "'a_C(rev_cat, Treatment(\\'Alone\\'))[T.One]',\n",
    "'a_C(rev_cat, Treatment(\\'Alone\\'))[T.Two]',\n",
    "'a_C(rev_cat, Treatment(\\'Alone\\'))[T.Three]',\n",
    "'a_C(rev_cat, Treatment(\\'Alone\\'))[T.Four]'\n",
    "]\n",
    "\n",
    "# Save convergence figures\n",
    "for i in convergeCheck:\n",
    "    fig = m_comb.plot_posteriors(i)\n",
    "    plt.savefig('./Plots/' + modelName + '/' + i + '.pdf')"
   ]
  }
 ],
 "metadata": {
  "kernelspec": {
   "display_name": "Python 3",
   "language": "python",
   "name": "python3"
  },
  "language_info": {
   "codemirror_mode": {
    "name": "ipython",
    "version": 3
   },
   "file_extension": ".py",
   "mimetype": "text/x-python",
   "name": "python",
   "nbconvert_exporter": "python",
   "pygments_lexer": "ipython3",
   "version": "3.6.10"
  }
 },
 "nbformat": 4,
 "nbformat_minor": 4
}
