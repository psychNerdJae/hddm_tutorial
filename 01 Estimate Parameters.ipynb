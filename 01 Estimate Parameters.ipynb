{
 "cells": [
  {
   "cell_type": "code",
   "execution_count": null,
   "metadata": {},
   "outputs": [],
   "source": [
    "#####  RUN NOTES\n",
    "# Justice Conformity study3, HDDM analysis\n",
    "# Written by Jae-Young Son\n",
    "# Last modified 08-13-20 for HDDM workshop (Carney Computational Modeling Workshop)\n",
    "\n",
    "\n",
    "#####  SET UP ENVIRONMENT\n",
    "\n",
    "# Import requisite packages\n",
    "import matplotlib\n",
    "# If using the cluster, uncomment the following line & run before importing matplotlib.pyplot or pylab\n",
    "# matplotlib.use('Agg')\n",
    "import matplotlib.pyplot as plt\n",
    "import hddm\n",
    "import pandas as pd\n",
    "import pickle\n",
    "from patsy import dmatrix\n",
    "from kabuki.analyze import gelman_rubin\n",
    "from kabuki.utils import concat_models\n",
    "import pathlib\n",
    "\n",
    "# Name this model (useful if you're running different models in different scripts)\n",
    "modelName = 'categorical_unfair'  # Change this!\n",
    "\n",
    "# Get around a problem with saving regression outputs in Python 3\n",
    "def savePatch(self, fname):\n",
    "    import pickle\n",
    "    with open(fname, 'wb') as f:\n",
    "        pickle.dump(self, f)\n",
    "hddm.HDDM.savePatch = savePatch\n",
    "\n",
    "# Check whether save directories exist; if not, create them\n",
    "pathlib.Path('./Models/').mkdir(parents=True, exist_ok=True)\n",
    "pathlib.Path('./Results/').mkdir(parents=True, exist_ok=True)\n",
    "pathlib.Path('./Plots/' + modelName).mkdir(parents=True, exist_ok=True)"
   ]
  },
  {
   "cell_type": "code",
   "execution_count": null,
   "metadata": {},
   "outputs": [],
   "source": [
    "##### LOAD DATA\n",
    "\n",
    "# Load data from csv file into a NumPy structured array\n",
    "data = hddm.load_csv('JustCon3_ddm.csv')  # Change this!\n",
    "data = data[data.fair_cat=='unfair']\n",
    "\n",
    "# Check to make sure it's the data you expect/want\n",
    "data.head(10)"
   ]
  },
  {
   "cell_type": "code",
   "execution_count": null,
   "metadata": {},
   "outputs": [],
   "source": [
    "#####  RUN REGRESSION MODELS\n",
    "# Notes: You don't strictly have to run multiple chains in order to estimate parameters.\n",
    "#        Here, we're sampling a total of 50 traces (10 per chain, 5 chains). You could do that in a single chain.\n",
    "#        However, estimation is only one part of what we want to do. We also want to verify that our estimates\n",
    "#        are *reliable*. If we ran this analysis many more times, would we get comparable estimates each time?\n",
    "#        My preference for checking convergence is to use the Gelman-Rubin r-hat statistic. Basically, you run\n",
    "#        multiple chains, then find the between-chain to within-chain variance ratio. You then check whether this\n",
    "#        ratio (the scale reduction factor) exceeds some tolerance threshold that you define. I've seen 1.2 used,\n",
    "#        but I personally favor the stricter threshold of 1.1. Up to you.\n",
    "\n",
    "# Create empty array that will eventually store our models\n",
    "models = []\n",
    "\n",
    "# Loop over 5 times to get 5 chains\n",
    "for i in range(5):\n",
    "    # Define regression model\n",
    "    m = hddm.HDDMRegressor(data,\n",
    "                           # Change this!\n",
    "                           {\"v ~ C(rev_cat, Treatment('Alone'))\",\n",
    "                            \"a ~ C(rev_cat, Treatment('Alone'))\"},\n",
    "                           group_only_regressors=True,\n",
    "                           p_outlier=.05,\n",
    "                           include={'z'})\n",
    "    m.find_starting_values()\n",
    "    \n",
    "    # Start sampling from the defined regression model\n",
    "    #      For the sake of demonstration, we only collect 10 traces (not nearly enough)\n",
    "    #      It's also conventional to discard/\"burn\" the first X traces, as they're typically not good estimates\n",
    "    #      Instead of storing traces in RAM, we're going to save them to our hard drive\n",
    "    m.sample(10, burn=0, dbname='./Models/'+modelName+'_%s.db'%i, db='pickle')\n",
    "    m.savePatch('./Models/'+modelName+'_%s'%i)\n",
    "    \n",
    "    # Once you're finished running a chain, add that chain to your array of models\n",
    "    models.append(m)"
   ]
  },
  {
   "cell_type": "code",
   "execution_count": null,
   "metadata": {},
   "outputs": [],
   "source": [
    "##### EXAMINE MODEL OUTPUT\n",
    "\n",
    "# Save traces of concatenated model (only valid to look at if converged!)\n",
    "m_comb = concat_models(models)\n",
    "m_comb_export = m_comb.get_traces()\n",
    "m_comb_export.to_csv('./Results/'+modelName+'_traces.csv')\n",
    "\n",
    "# Get DIC (model fit statistic like AIC/BIC, useful for model selection)\n",
    "print(\"DIC: %f\" %m_comb.dic)"
   ]
  }
 ],
 "metadata": {
  "kernelspec": {
   "display_name": "Python 3",
   "language": "python",
   "name": "python3"
  },
  "language_info": {
   "codemirror_mode": {
    "name": "ipython",
    "version": 3
   },
   "file_extension": ".py",
   "mimetype": "text/x-python",
   "name": "python",
   "nbconvert_exporter": "python",
   "pygments_lexer": "ipython3",
   "version": "3.6.10"
  }
 },
 "nbformat": 4,
 "nbformat_minor": 4
}
